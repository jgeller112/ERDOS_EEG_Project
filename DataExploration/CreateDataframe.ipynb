{
 "cells": [
  {
   "cell_type": "code",
   "execution_count": 1,
   "metadata": {},
   "outputs": [],
   "source": [
    "## Erdos Bootcamp\n",
    "## Josimar A. Silva, May 2021\n",
    "## This script reads the data for the EEG dataset and create a  dataframe and numpy matrix to perform data analysis \n",
    "import re\n",
    "import numpy as np\n",
    "import pandas as pd"
   ]
  },
  {
   "cell_type": "code",
   "execution_count": 2,
   "metadata": {},
   "outputs": [],
   "source": [
    "## Reading the EEG dataset (full data). Note that it is assumed the user has downloaded and extracted the files\n",
    "## using the GetData.sh bash script\n",
    "file = open('./data/FullData/fullData.dat','r')\n",
    "lines = file.readlines()"
   ]
  },
  {
   "cell_type": "code",
   "execution_count": 3,
   "metadata": {
    "scrolled": true
   },
   "outputs": [],
   "source": [
    "## Defining set of funtions to auxiliate on the data reading\n",
    "\n",
    "def GetGroupAndSubjectNumber(line):\n",
    "    # Read group and subject number\n",
    "    \n",
    "    subject=line.split(\" \")[1].split('.')[0]\n",
    "    group=subject[3]\n",
    "    return group, subject\n",
    "\n",
    "def GetConditionAndTrialNumber(line):\n",
    "    # Read condition and trial number\n",
    "    \n",
    "    tmp = line.split(','); \n",
    "    condition = tmp[0].split('#')[1].strip()\n",
    "    trial = int(line.split(' ')[-1])\n",
    "    return condition, trial\n",
    "\n",
    "def GetChannelInfo(line):\n",
    "    # Get channel information \n",
    "    \n",
    "    tmp = line.split(' ')\n",
    "    channel = tmp[1]\n",
    "    chanNumber = tmp[-1].rstrip()\n",
    "    return channel, chanNumber\n",
    "\n",
    "def IncreaseArraySize(numberOfCurrentRows, sensorValue):\n",
    "    #Increase the array size for the sensorValue\n",
    "        \n",
    "    numberOfCols = sensorValue.shape[1]\n",
    "    newVar = np.zeros([numberOfCurrentRows * 2, numberOfCols]) ## doubling the size of the numpy array\n",
    "    newVar[0:numberOfCurrentRows,:] =  sensorValue[0:numberOfCurrentRows,:].copy()\n",
    "    sensorValue=[]; \n",
    "    sensorValue = newVar.copy(); \n",
    "    newVar=[];\n",
    "    \n",
    "    #print('Increasing array size for the sensor values')\n",
    "    \n",
    "    return sensorValue"
   ]
  },
  {
   "cell_type": "code",
   "execution_count": null,
   "metadata": {},
   "outputs": [
    {
     "name": "stdout",
     "output_type": "stream",
     "text": [
      "Working on subject # 1\tco2a0000364\n",
      "Working on subject # 2\tco2a0000365\n",
      "Working on subject # 3\tco2a0000368\n",
      "Working on subject # 4\tco2a0000369\n",
      "Working on subject # 5\tco2a0000370\n",
      "Working on subject # 6\tco2a0000371\n",
      "Working on subject # 7\tco2a0000372\n",
      "Working on subject # 8\tco2a0000375\n",
      "Working on subject # 9\tco2a0000377\n",
      "Working on subject # 10\tco2a0000378\n",
      "Working on subject # 11\tco2a0000379\n",
      "Working on subject # 12\tco2a0000380\n",
      "Working on subject # 13\tco2a0000381\n",
      "Working on subject # 14\tco2a0000382\n",
      "Working on subject # 15\tco2a0000384\n",
      "Working on subject # 16\tco2a0000385\n",
      "Working on subject # 17\tco2a0000386\n",
      "Working on subject # 18\tco2a0000387\n",
      "Working on subject # 19\tco2a0000388\n",
      "Working on subject # 20\tco2a0000390\n",
      "Working on subject # 21\tco2a0000392\n"
     ]
    }
   ],
   "source": [
    "## Read data and create numpy matrix and dataframe information\n",
    "\n",
    "sensorValue = np.zeros([4 , 256]) ## sensor values (nLines x nSamples). Note that nLines will increase adaptively\n",
    "headerInfo=[] # list containing the information for each signal in the file\n",
    "numberOfDfLines = 0\n",
    "iRow=0; iCol=0\n",
    "subjectNumber=1\n",
    "subjectName='tst' ## so as to print the subject that it is currently working on\n",
    "for line in lines:\n",
    "\n",
    "    if '#' in line: #reading header info\n",
    "        \n",
    "        if 'co' in line:\n",
    "            #get group and subject number \n",
    "            group, subject = GetGroupAndSubjectNumber(line)\n",
    "            #print('group = '+group+' subject = '+str(subject))\n",
    "        if re.search(r'\\btrial\\b',line):\n",
    "            condition, trial = GetConditionAndTrialNumber(line)\n",
    "            #print('condition = '+condition+' trial = '+str(trial))\n",
    "        if re.search(r'\\bchan\\b', line):\n",
    "            channel, chanNumber = GetChannelInfo(line)\n",
    "            #print('channel = '+channel+' chanNumber = '+chanNumber)\n",
    "    \n",
    "    else: ## reading channel samples\n",
    "        \n",
    "        ## Checking if the numpy array size should be increased\n",
    "        if iRow > sensorValue.shape[0] - 1:\n",
    "            sensorValue = IncreaseArraySize(iRow, sensorValue)\n",
    "        \n",
    "        ## Saving sensor value to numpy array\n",
    "        sensorValue[iRow, iCol] = float(line.split(' ')[-1])\n",
    "        iCol = iCol + 1    \n",
    "        \n",
    "        ## Checking to see if a new line to the dataframe needs to be created\n",
    "        sampleNumber = float(line.split(' ')[-2])\n",
    "        if sampleNumber == 255:\n",
    "            headerInfo = headerInfo + [group,subject,condition,trial,channel,chanNumber]\n",
    "            numberOfDfLines = numberOfDfLines + 1\n",
    "            iCol = 0\n",
    "            iRow = iRow + 1\n",
    "            if (subjectName == subject) == 0:\n",
    "                print('Working on subject # '+str(subjectNumber)+'\\t'+subject)\n",
    "                subjectName = subject\n",
    "                subjectNumber=subjectNumber+1\n",
    "\n",
    "## Keeping only non zero rows            \n",
    "sensorValue = sensorValue[0:iRow,:]        \n",
    "        \n",
    "   "
   ]
  },
  {
   "cell_type": "code",
   "execution_count": null,
   "metadata": {
    "scrolled": true
   },
   "outputs": [],
   "source": [
    "## Convert list to DataFrame to \n",
    "tmp = np.array(headerInfo)\n",
    "tmp2 = tmp.reshape(numberOfDfLines,6)\n",
    "df = pd.DataFrame(tmp2, columns = ['group' ,'subject','condition','trial','channel','chanNumber'])"
   ]
  },
  {
   "cell_type": "code",
   "execution_count": null,
   "metadata": {},
   "outputs": [],
   "source": [
    "df['subject'].unique()"
   ]
  },
  {
   "cell_type": "code",
   "execution_count": null,
   "metadata": {},
   "outputs": [],
   "source": [
    "df.head()"
   ]
  },
  {
   "cell_type": "code",
   "execution_count": null,
   "metadata": {},
   "outputs": [],
   "source": [
    "## Saving dataframe and numpy matrix to file\n",
    "df.to_csv('./data/FullData/dataHeader.csv', index=False)\n",
    "np.savetxt('./data/FullData/sensorValue.dat',sensorValue, fmt='%f')"
   ]
  },
  {
   "cell_type": "code",
   "execution_count": null,
   "metadata": {},
   "outputs": [],
   "source": []
  }
 ],
 "metadata": {
  "@webio": {
   "lastCommId": null,
   "lastKernelId": null
  },
  "kernelspec": {
   "display_name": "Python 3",
   "language": "python",
   "name": "python3"
  },
  "language_info": {
   "codemirror_mode": {
    "name": "ipython",
    "version": 3
   },
   "file_extension": ".py",
   "mimetype": "text/x-python",
   "name": "python",
   "nbconvert_exporter": "python",
   "pygments_lexer": "ipython3",
   "version": "3.8.5"
  }
 },
 "nbformat": 4,
 "nbformat_minor": 4
}
