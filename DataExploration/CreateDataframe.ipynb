{
 "cells": [
  {
   "cell_type": "code",
   "execution_count": null,
   "metadata": {},
   "outputs": [],
   "source": [
    "## Erdos Bootcamp\n",
    "## Josimar A. Silva, May 2021\n",
    "## This script reads the data for the EEG dataset and createa  dataframe and numpy matrix to perform data analysis \n",
    "import re\n",
    "import numpy as np\n",
    "import pandas as pd"
   ]
  },
  {
   "cell_type": "code",
   "execution_count": 2,
   "metadata": {},
   "outputs": [],
   "source": [
    "## Reading the EEG dataset (full data). Note that it is assumed the user has downloaded and extracted the files\n",
    "## using the GetData.sh bash script\n",
    "file = open('./data/FullData/fullData.dat','r')\n",
    "lines = file.readlines()"
   ]
  },
  {
   "cell_type": "code",
   "execution_count": 3,
   "metadata": {
    "scrolled": true
   },
   "outputs": [],
   "source": [
    "## Defining set of funtions to auxiliate on the data reading\n",
    "\n",
    "def GetGroupAndSubjectNumber(line):\n",
    "    # Read group and subject number\n",
    "    \n",
    "    tmp = line.split(' ')[1]\n",
    "    tmp = tmp.split('.')[0]\n",
    "    tmp = tmp.split('co')\n",
    "    group = tmp[1][1]\n",
    "    subject = (tmp[1][2:-1])\n",
    "    return group, subject\n",
    "\n",
    "def GetConditionAndTrialNumber(line):\n",
    "    # Read condition and trial number\n",
    "    \n",
    "    tmp = line.split(','); \n",
    "    condition = tmp[0].split('#')[1].strip()\n",
    "    trial = int(line.split(' ')[-1])\n",
    "    return condition, trial\n",
    "\n",
    "def GetChannelInfo(line):\n",
    "    # Get channel information \n",
    "    \n",
    "    tmp = line.split(' ')\n",
    "    channel = tmp[1]\n",
    "    chanNumber = tmp[-1].rstrip()\n",
    "    return channel, chanNumber\n",
    "\n",
    "def IncreaseArraySize(numberOfCurrentRows, sensorValue):\n",
    "    #Increase the array size for the sensorValue\n",
    "        \n",
    "    numberOfCols = sensorValue.shape[1]\n",
    "    newVar = np.zeros([numberOfCurrentRows * 2, numberOfCols]) ## doubling the size of the numpy array\n",
    "    newVar[0:numberOfCurrentRows,:] =  sensorValue[0:numberOfCurrentRows,:].copy()\n",
    "    sensorValue=[]; \n",
    "    sensorValue = newVar.copy(); \n",
    "    newVar=[];\n",
    "    \n",
    "    #print('Increasing array size for the sensor values')\n",
    "    \n",
    "    return sensorValue"
   ]
  },
  {
   "cell_type": "code",
   "execution_count": 4,
   "metadata": {},
   "outputs": [],
   "source": [
    "## Read data and create numpy matrix and dataframe information\n",
    "\n",
    "sensorValue = np.zeros([4 , 256]) ## sensor values (nLines x nSamples). Note that nLines will increase adaptively\n",
    "headerInfo=[] # list containing the information for each signal in the file\n",
    "numberOfDfLines = 0\n",
    "iRow=0; iCol=0\n",
    "for line in lines:\n",
    "\n",
    "    if '#' in line: #reading header info\n",
    "        \n",
    "        if 'co' in line:\n",
    "            #get group and subject number \n",
    "            group, subject = GetGroupAndSubjectNumber(line)\n",
    "            #print('group = '+group+' subject = '+str(subject))\n",
    "        if re.search(r'\\btrial\\b',line):\n",
    "            condition, trial = GetConditionAndTrialNumber(line)\n",
    "            #print('condition = '+condition+' trial = '+str(trial))\n",
    "        if re.search(r'\\bchan\\b', line):\n",
    "            channel, chanNumber = GetChannelInfo(line)\n",
    "            #print('channel = '+channel+' chanNumber = '+chanNumber)\n",
    "    \n",
    "    else: ## reading channel samples\n",
    "        \n",
    "        ## Checking if the numpy array size should be increased\n",
    "        if iRow > sensorValue.shape[0] - 1:\n",
    "            sensorValue = IncreaseArraySize(iRow, sensorValue)\n",
    "        \n",
    "        ## Saving sensor value to numpy array\n",
    "        sensorValue[iRow, iCol] = float(line.split(' ')[-1])\n",
    "        iCol = iCol + 1    \n",
    "        \n",
    "        ## Checking to see if a new line to the dataframe needs to be created\n",
    "        sampleNumber = float(line.split(' ')[-2])\n",
    "        if sampleNumber == 255:\n",
    "            headerInfo = headerInfo + [group,subject,condition,trial,channel,chanNumber]\n",
    "            numberOfDfLines = numberOfDfLines + 1\n",
    "            iCol = 0\n",
    "            iRow = iRow + 1\n",
    "\n",
    "## Keeping only non zero rows            \n",
    "sensorValue = sensorValue[0:iRow,:]        \n",
    "        \n",
    "   "
   ]
  },
  {
   "cell_type": "code",
   "execution_count": 5,
   "metadata": {
    "scrolled": true
   },
   "outputs": [],
   "source": [
    "## Convert list to DataFrame to \n",
    "tmp = np.array(headerInfo)\n",
    "tmp2 = tmp.reshape(numberOfDfLines,6)\n",
    "df = pd.DataFrame(tmp2, columns = ['group' ,'subject','condition','trial','channel','chanNumber'])"
   ]
  },
  {
   "cell_type": "code",
   "execution_count": 6,
   "metadata": {},
   "outputs": [],
   "source": [
    "## Saving dataframe and numpy matrix to file\n",
    "df.to_csv('./data/FullData/dataHeader.csv', index=False)\n",
    "np.savetxt('./data/FullData/sensorValue.dat',sensorValue, fmt='%f')"
   ]
  },
  {
   "cell_type": "code",
   "execution_count": null,
   "metadata": {},
   "outputs": [],
   "source": []
  }
 ],
 "metadata": {
  "kernelspec": {
   "display_name": "Python 3",
   "language": "python",
   "name": "python3"
  },
  "language_info": {
   "codemirror_mode": {
    "name": "ipython",
    "version": 3
   },
   "file_extension": ".py",
   "mimetype": "text/x-python",
   "name": "python",
   "nbconvert_exporter": "python",
   "pygments_lexer": "ipython3",
   "version": "3.8.5"
  }
 },
 "nbformat": 4,
 "nbformat_minor": 4
}
