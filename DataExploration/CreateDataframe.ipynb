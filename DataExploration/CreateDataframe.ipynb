{
 "cells": [
  {
   "cell_type": "code",
   "execution_count": 12,
   "metadata": {},
   "outputs": [],
   "source": [
    "#file = open('./data/FullData/fullData.dat','r')"
   ]
  },
  {
   "cell_type": "code",
   "execution_count": null,
   "metadata": {},
   "outputs": [],
   "source": []
  },
  {
   "cell_type": "code",
   "execution_count": 8,
   "metadata": {},
   "outputs": [],
   "source": [
    "#for line in file:\n",
    "#    print(\"{}\".format(line.strip()))"
   ]
  },
  {
   "cell_type": "code",
   "execution_count": 51,
   "metadata": {},
   "outputs": [
    {
     "name": "stdout",
     "output_type": "stream",
     "text": [
      "# co2a0000364.rd\n",
      "\n",
      "['# ', '2a0000364.rd\\n']\n"
     ]
    }
   ],
   "source": [
    "file = open('./data/FullData/fullData.dat','r')\n",
    "line = file.readline()\n",
    "print(line)\n",
    "print(line.split('co'))\n",
    "#print(\"{}\".format(line.strip('co')))\n",
    "    "
   ]
  },
  {
   "cell_type": "code",
   "execution_count": 52,
   "metadata": {},
   "outputs": [
    {
     "name": "stdout",
     "output_type": "stream",
     "text": [
      "group = a\t subject = 000036\n"
     ]
    }
   ],
   "source": [
    "tmp = line.split('co')\n",
    "group = tmp[1][1]\n",
    "tmp2 = tmp[1].split('.')\n",
    "subject = tmp2[0][2:-1]\n",
    "print('group = ' + group + '\\t subject = '+subject)\n",
    "line = file.readline()\n",
    "line = file.readline()\n",
    "line = file.readline()"
   ]
  },
  {
   "cell_type": "code",
   "execution_count": 61,
   "metadata": {},
   "outputs": [
    {
     "name": "stdout",
     "output_type": "stream",
     "text": [
      " S1 obj \n"
     ]
    }
   ],
   "source": [
    "tmp=line.split(',')[0]\n",
    "tmp = tmp.split('#')[1] \n",
    "print(tmp)"
   ]
  },
  {
   "cell_type": "code",
   "execution_count": null,
   "metadata": {},
   "outputs": [],
   "source": [
    "# Opening file\n",
    "file1 = open('myfile.txt', 'r')\n",
    "count = 0\n",
    " \n",
    "# Using for loop\n",
    "print(\"Using for loop\")\n",
    "for line in file1:\n",
    "    count += 1\n",
    "    print(\"Line{}: {}\".format(count, line.strip()))\n",
    " \n",
    "# Closing files\n",
    "file1.close()"
   ]
  }
 ],
 "metadata": {
  "kernelspec": {
   "display_name": "Python 3",
   "language": "python",
   "name": "python3"
  },
  "language_info": {
   "codemirror_mode": {
    "name": "ipython",
    "version": 3
   },
   "file_extension": ".py",
   "mimetype": "text/x-python",
   "name": "python",
   "nbconvert_exporter": "python",
   "pygments_lexer": "ipython3",
   "version": "3.8.5"
  }
 },
 "nbformat": 4,
 "nbformat_minor": 4
}
