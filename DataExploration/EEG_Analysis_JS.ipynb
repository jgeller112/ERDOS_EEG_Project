{
 "cells": [
  {
   "cell_type": "markdown",
   "metadata": {},
   "source": [
    "Initial data exploration for the EEG data"
   ]
  },
  {
   "cell_type": "code",
   "execution_count": 41,
   "metadata": {},
   "outputs": [],
   "source": [
    "import sys\n",
    "sys.path.append(\".\")\n",
    "#print(sys.path)\n",
    "import pandas as pd\n",
    "import numpy as np\n",
    "import AuxFunctionsJS \n",
    "import seaborn as sn\n",
    "import matplotlib.pyplot as plt"
   ]
  },
  {
   "cell_type": "code",
   "execution_count": 2,
   "metadata": {},
   "outputs": [],
   "source": [
    "## importing dataframe into pandas\n",
    "data = pd.read_csv(\"../EEG_train/eegdata_train.csv\")"
   ]
  },
  {
   "cell_type": "code",
   "execution_count": null,
   "metadata": {},
   "outputs": [],
   "source": []
  },
  {
   "cell_type": "code",
   "execution_count": 3,
   "metadata": {},
   "outputs": [
    {
     "data": {
      "text/html": [
       "<div>\n",
       "<style scoped>\n",
       "    .dataframe tbody tr th:only-of-type {\n",
       "        vertical-align: middle;\n",
       "    }\n",
       "\n",
       "    .dataframe tbody tr th {\n",
       "        vertical-align: top;\n",
       "    }\n",
       "\n",
       "    .dataframe thead th {\n",
       "        text-align: right;\n",
       "    }\n",
       "</style>\n",
       "<table border=\"1\" class=\"dataframe\">\n",
       "  <thead>\n",
       "    <tr style=\"text-align: right;\">\n",
       "      <th></th>\n",
       "      <th>Unnamed: 0</th>\n",
       "      <th>subject</th>\n",
       "      <th>group</th>\n",
       "      <th>condition</th>\n",
       "      <th>trial</th>\n",
       "      <th>channel</th>\n",
       "      <th>time</th>\n",
       "      <th>voltage</th>\n",
       "    </tr>\n",
       "  </thead>\n",
       "  <tbody>\n",
       "    <tr>\n",
       "      <th>0</th>\n",
       "      <td>1</td>\n",
       "      <td>co2a0000364</td>\n",
       "      <td>a</td>\n",
       "      <td>S1</td>\n",
       "      <td>0</td>\n",
       "      <td>FP1</td>\n",
       "      <td>0</td>\n",
       "      <td>-8.921</td>\n",
       "    </tr>\n",
       "    <tr>\n",
       "      <th>1</th>\n",
       "      <td>2</td>\n",
       "      <td>co2a0000364</td>\n",
       "      <td>a</td>\n",
       "      <td>S1</td>\n",
       "      <td>0</td>\n",
       "      <td>FP1</td>\n",
       "      <td>1</td>\n",
       "      <td>-8.433</td>\n",
       "    </tr>\n",
       "    <tr>\n",
       "      <th>2</th>\n",
       "      <td>3</td>\n",
       "      <td>co2a0000364</td>\n",
       "      <td>a</td>\n",
       "      <td>S1</td>\n",
       "      <td>0</td>\n",
       "      <td>FP1</td>\n",
       "      <td>2</td>\n",
       "      <td>-2.574</td>\n",
       "    </tr>\n",
       "    <tr>\n",
       "      <th>3</th>\n",
       "      <td>4</td>\n",
       "      <td>co2a0000364</td>\n",
       "      <td>a</td>\n",
       "      <td>S1</td>\n",
       "      <td>0</td>\n",
       "      <td>FP1</td>\n",
       "      <td>3</td>\n",
       "      <td>5.239</td>\n",
       "    </tr>\n",
       "    <tr>\n",
       "      <th>4</th>\n",
       "      <td>5</td>\n",
       "      <td>co2a0000364</td>\n",
       "      <td>a</td>\n",
       "      <td>S1</td>\n",
       "      <td>0</td>\n",
       "      <td>FP1</td>\n",
       "      <td>4</td>\n",
       "      <td>11.587</td>\n",
       "    </tr>\n",
       "  </tbody>\n",
       "</table>\n",
       "</div>"
      ],
      "text/plain": [
       "   Unnamed: 0      subject group condition  trial channel  time  voltage\n",
       "0           1  co2a0000364     a        S1      0     FP1     0   -8.921\n",
       "1           2  co2a0000364     a        S1      0     FP1     1   -8.433\n",
       "2           3  co2a0000364     a        S1      0     FP1     2   -2.574\n",
       "3           4  co2a0000364     a        S1      0     FP1     3    5.239\n",
       "4           5  co2a0000364     a        S1      0     FP1     4   11.587"
      ]
     },
     "execution_count": 3,
     "metadata": {},
     "output_type": "execute_result"
    }
   ],
   "source": [
    "data.head()"
   ]
  },
  {
   "cell_type": "code",
   "execution_count": 4,
   "metadata": {},
   "outputs": [
    {
     "data": {
      "text/plain": [
       "array([  0,   2,  10,  12,  14,  18,  20,  22,  24,  28,   4,   6,   8,\n",
       "        16,  26,  30,  32,  34,  36,  38,   9,  17,  23,  25,  27,  37,\n",
       "        41,  47,  55,  61,  11,  51,  71,   3,  65,  75,  77,  79,  97,\n",
       "       107,  81,   7,  15,  19,  31,  39,  43,  45,  49,  57,  59,   5,\n",
       "        29,  33,  35,   1,  13,  21,  53,  67,  73,  83,  87,  89,  63])"
      ]
     },
     "execution_count": 4,
     "metadata": {},
     "output_type": "execute_result"
    }
   ],
   "source": [
    "data[\"trial\"].unique()"
   ]
  },
  {
   "cell_type": "code",
   "execution_count": 5,
   "metadata": {},
   "outputs": [
    {
     "data": {
      "text/plain": [
       "20"
      ]
     },
     "execution_count": 5,
     "metadata": {},
     "output_type": "execute_result"
    }
   ],
   "source": [
    "data[\"subject\"].nunique()"
   ]
  },
  {
   "cell_type": "code",
   "execution_count": 6,
   "metadata": {},
   "outputs": [],
   "source": [
    "S1_df = data[data[\"condition\"] == \"S1\"]\n",
    "S1_df = S1_df[S1_df[\"trial\"] == 10]\n",
    "S1_df = S1_df[S1_df[\"channel\"] == \"CZ\"]"
   ]
  },
  {
   "cell_type": "code",
   "execution_count": 7,
   "metadata": {},
   "outputs": [
    {
     "data": {
      "text/html": [
       "<div>\n",
       "<style scoped>\n",
       "    .dataframe tbody tr th:only-of-type {\n",
       "        vertical-align: middle;\n",
       "    }\n",
       "\n",
       "    .dataframe tbody tr th {\n",
       "        vertical-align: top;\n",
       "    }\n",
       "\n",
       "    .dataframe thead th {\n",
       "        text-align: right;\n",
       "    }\n",
       "</style>\n",
       "<table border=\"1\" class=\"dataframe\">\n",
       "  <thead>\n",
       "    <tr style=\"text-align: right;\">\n",
       "      <th></th>\n",
       "      <th>Unnamed: 0</th>\n",
       "      <th>subject</th>\n",
       "      <th>group</th>\n",
       "      <th>condition</th>\n",
       "      <th>trial</th>\n",
       "      <th>channel</th>\n",
       "      <th>time</th>\n",
       "      <th>voltage</th>\n",
       "    </tr>\n",
       "  </thead>\n",
       "  <tbody>\n",
       "    <tr>\n",
       "      <th>36608</th>\n",
       "      <td>36609</td>\n",
       "      <td>co2a0000364</td>\n",
       "      <td>a</td>\n",
       "      <td>S1</td>\n",
       "      <td>10</td>\n",
       "      <td>CZ</td>\n",
       "      <td>0</td>\n",
       "      <td>13.926</td>\n",
       "    </tr>\n",
       "    <tr>\n",
       "      <th>36609</th>\n",
       "      <td>36610</td>\n",
       "      <td>co2a0000364</td>\n",
       "      <td>a</td>\n",
       "      <td>S1</td>\n",
       "      <td>10</td>\n",
       "      <td>CZ</td>\n",
       "      <td>1</td>\n",
       "      <td>12.950</td>\n",
       "    </tr>\n",
       "    <tr>\n",
       "      <th>36610</th>\n",
       "      <td>36611</td>\n",
       "      <td>co2a0000364</td>\n",
       "      <td>a</td>\n",
       "      <td>S1</td>\n",
       "      <td>10</td>\n",
       "      <td>CZ</td>\n",
       "      <td>2</td>\n",
       "      <td>10.508</td>\n",
       "    </tr>\n",
       "    <tr>\n",
       "      <th>36611</th>\n",
       "      <td>36612</td>\n",
       "      <td>co2a0000364</td>\n",
       "      <td>a</td>\n",
       "      <td>S1</td>\n",
       "      <td>10</td>\n",
       "      <td>CZ</td>\n",
       "      <td>3</td>\n",
       "      <td>10.997</td>\n",
       "    </tr>\n",
       "    <tr>\n",
       "      <th>36612</th>\n",
       "      <td>36613</td>\n",
       "      <td>co2a0000364</td>\n",
       "      <td>a</td>\n",
       "      <td>S1</td>\n",
       "      <td>10</td>\n",
       "      <td>CZ</td>\n",
       "      <td>4</td>\n",
       "      <td>14.414</td>\n",
       "    </tr>\n",
       "    <tr>\n",
       "      <th>...</th>\n",
       "      <td>...</td>\n",
       "      <td>...</td>\n",
       "      <td>...</td>\n",
       "      <td>...</td>\n",
       "      <td>...</td>\n",
       "      <td>...</td>\n",
       "      <td>...</td>\n",
       "      <td>...</td>\n",
       "    </tr>\n",
       "    <tr>\n",
       "      <th>3018747</th>\n",
       "      <td>3018748</td>\n",
       "      <td>co2c0000346</td>\n",
       "      <td>c</td>\n",
       "      <td>S1</td>\n",
       "      <td>10</td>\n",
       "      <td>CZ</td>\n",
       "      <td>251</td>\n",
       "      <td>-1.109</td>\n",
       "    </tr>\n",
       "    <tr>\n",
       "      <th>3018748</th>\n",
       "      <td>3018749</td>\n",
       "      <td>co2c0000346</td>\n",
       "      <td>c</td>\n",
       "      <td>S1</td>\n",
       "      <td>10</td>\n",
       "      <td>CZ</td>\n",
       "      <td>252</td>\n",
       "      <td>-2.085</td>\n",
       "    </tr>\n",
       "    <tr>\n",
       "      <th>3018749</th>\n",
       "      <td>3018750</td>\n",
       "      <td>co2c0000346</td>\n",
       "      <td>c</td>\n",
       "      <td>S1</td>\n",
       "      <td>10</td>\n",
       "      <td>CZ</td>\n",
       "      <td>253</td>\n",
       "      <td>-1.109</td>\n",
       "    </tr>\n",
       "    <tr>\n",
       "      <th>3018750</th>\n",
       "      <td>3018751</td>\n",
       "      <td>co2c0000346</td>\n",
       "      <td>c</td>\n",
       "      <td>S1</td>\n",
       "      <td>10</td>\n",
       "      <td>CZ</td>\n",
       "      <td>254</td>\n",
       "      <td>0.356</td>\n",
       "    </tr>\n",
       "    <tr>\n",
       "      <th>3018751</th>\n",
       "      <td>3018752</td>\n",
       "      <td>co2c0000346</td>\n",
       "      <td>c</td>\n",
       "      <td>S1</td>\n",
       "      <td>10</td>\n",
       "      <td>CZ</td>\n",
       "      <td>255</td>\n",
       "      <td>-1.597</td>\n",
       "    </tr>\n",
       "  </tbody>\n",
       "</table>\n",
       "<p>3840 rows × 8 columns</p>\n",
       "</div>"
      ],
      "text/plain": [
       "         Unnamed: 0      subject group condition  trial channel  time  voltage\n",
       "36608         36609  co2a0000364     a        S1     10      CZ     0   13.926\n",
       "36609         36610  co2a0000364     a        S1     10      CZ     1   12.950\n",
       "36610         36611  co2a0000364     a        S1     10      CZ     2   10.508\n",
       "36611         36612  co2a0000364     a        S1     10      CZ     3   10.997\n",
       "36612         36613  co2a0000364     a        S1     10      CZ     4   14.414\n",
       "...             ...          ...   ...       ...    ...     ...   ...      ...\n",
       "3018747     3018748  co2c0000346     c        S1     10      CZ   251   -1.109\n",
       "3018748     3018749  co2c0000346     c        S1     10      CZ   252   -2.085\n",
       "3018749     3018750  co2c0000346     c        S1     10      CZ   253   -1.109\n",
       "3018750     3018751  co2c0000346     c        S1     10      CZ   254    0.356\n",
       "3018751     3018752  co2c0000346     c        S1     10      CZ   255   -1.597\n",
       "\n",
       "[3840 rows x 8 columns]"
      ]
     },
     "execution_count": 7,
     "metadata": {},
     "output_type": "execute_result"
    }
   ],
   "source": [
    "S1_df"
   ]
  },
  {
   "cell_type": "code",
   "execution_count": 8,
   "metadata": {},
   "outputs": [
    {
     "name": "stdout",
     "output_type": "stream",
     "text": [
      "Number of subjects = 15\n",
      "Number of Samples = 256\n",
      "Number of Channels = 1\n",
      "Number of Trials = 1\n"
     ]
    }
   ],
   "source": [
    "nChannels = S1_df[\"channel\"].nunique()\n",
    "nSamples = S1_df[\"time\"].nunique()\n",
    "nSubjects = S1_df[\"subject\"].nunique()\n",
    "nTrials = S1_df[\"trial\"].nunique()\n",
    "print(\"Number of subjects = \"+str(nSubjects))\n",
    "print(\"Number of Samples = \"+str(nSamples))\n",
    "print(\"Number of Channels = \"+str(nChannels))\n",
    "print(\"Number of Trials = \"+str(nTrials))\n",
    "\n",
    "#AuxFunctionsJS.CountUniqueAttributesDF(S1_df,\"channel\")\n",
    "#AuxFunctionsJS.HelloWorld()"
   ]
  },
  {
   "cell_type": "code",
   "execution_count": 45,
   "metadata": {},
   "outputs": [],
   "source": [
    "S1_np = S1_df[\"voltage\"].to_numpy()\n",
    "S1_np_group = S1_df[\"group\"].to_numpy()"
   ]
  },
  {
   "cell_type": "code",
   "execution_count": 46,
   "metadata": {},
   "outputs": [],
   "source": [
    "S1_np = S1_np.reshape(nSubjects, nSamples)\n",
    "S1_np_group = S1_np_group.reshape(nSubjects, nSamples)"
   ]
  },
  {
   "cell_type": "code",
   "execution_count": 51,
   "metadata": {},
   "outputs": [
    {
     "data": {
      "text/plain": [
       "(15, 256)"
      ]
     },
     "execution_count": 51,
     "metadata": {},
     "output_type": "execute_result"
    }
   ],
   "source": [
    "S1_np_group.shape"
   ]
  },
  {
   "cell_type": "code",
   "execution_count": 11,
   "metadata": {},
   "outputs": [
    {
     "name": "stdout",
     "output_type": "stream",
     "text": [
      "(15, 256)\n"
     ]
    }
   ],
   "source": [
    "print(S1_np.shape)\n"
   ]
  },
  {
   "cell_type": "code",
   "execution_count": 12,
   "metadata": {},
   "outputs": [
    {
     "data": {
      "text/plain": [
       "array([[ 13.926,  12.95 ,  10.508, ...,  16.856,  22.715,  25.157],\n",
       "       [-13.906, -12.441, -11.464, ...,  21.25 ,  21.25 ,  23.692],\n",
       "       [  7.701,   5.259,   6.236, ..., -37.71 , -38.686, -41.128],\n",
       "       ...,\n",
       "       [  5.463,   6.927,   8.881, ...,  -2.35 ,  -0.885,  -1.373],\n",
       "       [ 12.492,  15.422,  15.422, ...,   9.562,   9.562,  11.027],\n",
       "       [  5.727,   2.797,  -0.132, ...,  -1.109,   0.356,  -1.597]])"
      ]
     },
     "execution_count": 12,
     "metadata": {},
     "output_type": "execute_result"
    }
   ],
   "source": [
    "S1_np"
   ]
  },
  {
   "cell_type": "code",
   "execution_count": 13,
   "metadata": {},
   "outputs": [],
   "source": [
    "covMatrix = np.cov(S1_np)"
   ]
  },
  {
   "cell_type": "code",
   "execution_count": 14,
   "metadata": {
    "scrolled": true
   },
   "outputs": [
    {
     "data": {
      "text/plain": [
       "(15, 15)"
      ]
     },
     "execution_count": 14,
     "metadata": {},
     "output_type": "execute_result"
    }
   ],
   "source": [
    "\n",
    "covMatrix.shape"
   ]
  },
  {
   "cell_type": "code",
   "execution_count": 15,
   "metadata": {},
   "outputs": [
    {
     "data": {
      "text/plain": [
       "<AxesSubplot:>"
      ]
     },
     "execution_count": 15,
     "metadata": {},
     "output_type": "execute_result"
    },
    {
     "data": {
      "image/png": "[encoded data removed]",
      "text/plain": [
       "<Figure size 432x288 with 2 Axes>"
      ]
     },
     "metadata": {
      "needs_background": "light"
     },
     "output_type": "display_data"
    }
   ],
   "source": [
    "sn.heatmap(covMatrix, cmap=\"jet\")"
   ]
  },
  {
   "cell_type": "code",
   "execution_count": 16,
   "metadata": {},
   "outputs": [
    {
     "data": {
      "text/plain": [
       "array([442.02609076, -67.34582133, 134.25433674,  -8.86580881,\n",
       "       -14.77474711,  -8.1211285 , -32.32348271,  65.44782615,\n",
       "         0.65063002,  25.27086984, -32.31378743,  28.87180173,\n",
       "       -48.24621608, -21.46053438,  67.74617147])"
      ]
     },
     "execution_count": 16,
     "metadata": {},
     "output_type": "execute_result"
    }
   ],
   "source": [
    "covMatrix[0,:]"
   ]
  },
  {
   "cell_type": "code",
   "execution_count": 191,
   "metadata": {},
   "outputs": [
    {
     "data": {
      "text/plain": [
       "array([-67.34582133, 134.25433674,  -8.86580881, -14.77474711,\n",
       "        -8.1211285 , -32.32348271,  65.44782615,   0.65063002,\n",
       "        25.27086984, -32.31378743,  28.87180173, -48.24621608,\n",
       "       -21.46053438,  67.74617147])"
      ]
     },
     "execution_count": 191,
     "metadata": {},
     "output_type": "execute_result"
    }
   ],
   "source": [
    "covMatrix[0,1:]"
   ]
  },
  {
   "cell_type": "code",
   "execution_count": 196,
   "metadata": {
    "scrolled": true
   },
   "outputs": [
    {
     "data": {
      "text/plain": [
       "1"
      ]
     },
     "execution_count": 196,
     "metadata": {},
     "output_type": "execute_result"
    }
   ],
   "source": [
    "tmp = covMatrix[0,1:]\n",
    "tmp.argmax()"
   ]
  },
  {
   "cell_type": "code",
   "execution_count": 197,
   "metadata": {},
   "outputs": [
    {
     "data": {
      "text/plain": [
       "array([-67.34582133, 134.25433674,  -8.86580881, -14.77474711,\n",
       "        -8.1211285 , -32.32348271,  65.44782615,   0.65063002,\n",
       "        25.27086984, -32.31378743,  28.87180173, -48.24621608,\n",
       "       -21.46053438,  67.74617147])"
      ]
     },
     "execution_count": 197,
     "metadata": {},
     "output_type": "execute_result"
    }
   ],
   "source": [
    "tmp"
   ]
  },
  {
   "cell_type": "code",
   "execution_count": 198,
   "metadata": {},
   "outputs": [
    {
     "data": {
      "text/plain": [
       "134.25433673782175"
      ]
     },
     "execution_count": 198,
     "metadata": {},
     "output_type": "execute_result"
    }
   ],
   "source": [
    "tmp[1]"
   ]
  },
  {
   "cell_type": "code",
   "execution_count": 39,
   "metadata": {},
   "outputs": [
    {
     "name": "stdout",
     "output_type": "stream",
     "text": [
      "[  0.          67.34582133 134.25433674   8.86580881  14.77474711\n",
      "   8.1211285   32.32348271  65.44782615   0.65063002  25.27086984\n",
      "  32.31378743  28.87180173  48.24621608  21.46053438  67.74617147]\n",
      "[ 67.34582133   0.         132.42913361  20.70609521  21.24376089\n",
      "  22.99685685  65.31179471 106.49900825  60.26675619  68.56497724\n",
      "   5.69779852   6.69905328  22.8885231   41.26661058  25.68066049]\n",
      "[134.25433674 132.42913361   0.          63.91558974  15.57335219\n",
      "  36.33662631  91.31193877 132.29277596  87.3298708   76.99079535\n",
      "  60.40059791  42.2449191    8.86504065  64.39836962  77.38941275]\n",
      "[ 8.86580881 20.70609521 63.91558974  0.         26.2312993  12.58432432\n",
      " 28.13043819 52.30555588 55.09117268 41.10333032 18.49642933 15.09951296\n",
      "  3.28049891 38.70655148 14.1107087 ]\n",
      "[14.77474711 21.24376089 15.57335219 26.2312993   0.          6.33986429\n",
      " 29.18813955 28.06072669 28.99206035  9.68040642 23.87945098  2.80270938\n",
      " 10.34408851 46.33761788 24.08609247]\n",
      "[ 8.1211285  22.99685685 36.33662631 12.58432432  6.33986429  0.\n",
      "  3.93478857 31.20045572 40.09243905 33.66726033 13.2502553  26.55871557\n",
      " 27.81676794  1.61509759 25.45399092]\n",
      "[32.32348271 65.31179471 91.31193877 28.13043819 29.18813955  3.93478857\n",
      "  0.         63.28026843 46.80247372 35.34389642 20.45062459  7.71148115\n",
      "  9.99294663 65.50731489  9.66691152]\n",
      "[ 65.44782615 106.49900825 132.29277596  52.30555588  28.06072669\n",
      "  31.20045572  63.28026843   0.          65.95344729  59.16529452\n",
      "  27.93142256   6.48415165   9.82471865  56.92544434  29.93804367]\n",
      "[ 0.65063002 60.26675619 87.3298708  55.09117268 28.99206035 40.09243905\n",
      " 46.80247372 65.95344729  0.         40.84007073  3.96631477 23.29808905\n",
      "  2.71438342 44.94667418 18.97398498]\n",
      "[25.27086984 68.56497724 76.99079535 41.10333032  9.68040642 33.66726033\n",
      " 35.34389642 59.16529452 40.84007073  0.          3.49379217 11.17584188\n",
      "  6.80631179 38.41064157 16.37118669]\n",
      "[32.31378743  5.69779852 60.40059791 18.49642933 23.87945098 13.2502553\n",
      " 20.45062459 27.93142256  3.96631477  3.49379217  0.         12.49877108\n",
      "  2.0789659  20.7756367  30.8594236 ]\n",
      "[28.87180173  6.69905328 42.2449191  15.09951296  2.80270938 26.55871557\n",
      "  7.71148115  6.48415165 23.29808905 11.17584188 12.49877108  0.\n",
      " 11.9450569  15.41176557 38.1807718 ]\n",
      "[48.24621608 22.8885231   8.86504065  3.28049891 10.34408851 27.81676794\n",
      "  9.99294663  9.82471865  2.71438342  6.80631179  2.0789659  11.9450569\n",
      "  0.          8.93275135  9.65125829]\n",
      "[21.46053438 41.26661058 64.39836962 38.70655148 46.33761788  1.61509759\n",
      " 65.50731489 56.92544434 44.94667418 38.41064157 20.7756367  15.41176557\n",
      "  8.93275135  0.          5.2858855 ]\n"
     ]
    }
   ],
   "source": [
    "maxIndex = np.zeros( [covMatrix.shape[1], 3],  dtype=int)\n",
    "tmpAbs = np.absolute(covMatrix)\n",
    "for i in range(0,tmpAbs.shape[1]-1):\n",
    "    tmpAbs[i,i] = 0\n",
    "    \n",
    "for i in range(0,tmpAbs.shape[1]-1):\n",
    "        print(tmpAbs[i,:])\n",
    "        tmp = tmpAbs[i,:]\n",
    "        maxIndex[i,0] = i\n",
    "        maxIndex[i,1] = tmp.argmax()\n",
    "        maxIndex[i,2] = covMatrix[i, maxIndex[i,1]]"
   ]
  },
  {
   "cell_type": "code",
   "execution_count": 40,
   "metadata": {},
   "outputs": [
    {
     "data": {
      "text/plain": [
       "array([[   0,    2,  134],\n",
       "       [   1,    2, -132],\n",
       "       [   2,    0,  134],\n",
       "       [   3,    2,   63],\n",
       "       [   4,   13,   46],\n",
       "       [   5,    8,   40],\n",
       "       [   6,    2,  -91],\n",
       "       [   7,    2,  132],\n",
       "       [   8,    2,   87],\n",
       "       [   9,    2,   76],\n",
       "       [  10,    2,  -60],\n",
       "       [  11,    2,   42],\n",
       "       [  12,    0,  -48],\n",
       "       [  13,    6,   65],\n",
       "       [   0,    0,    0]])"
      ]
     },
     "execution_count": 40,
     "metadata": {},
     "output_type": "execute_result"
    }
   ],
   "source": [
    "maxIndex"
   ]
  },
  {
   "cell_type": "code",
   "execution_count": 56,
   "metadata": {},
   "outputs": [
    {
     "name": "stdout",
     "output_type": "stream",
     "text": [
      "['a' 'a' 'a' 'a' 'a' 'a' 'a' 'a' 'a' 'c' 'c' 'c' 'c' 'c' 'a']\n",
      "['a' 'a' 'a' 'a' 'c' 'a' 'a' 'a' 'a' 'a' 'a' 'a' 'a' 'a' 'a']\n"
     ]
    }
   ],
   "source": [
    "print( str(S1_np_group[maxIndex[:,0],0]) )\n",
    "print( str(S1_np_group[maxIndex[:,1],0]) )"
   ]
  },
  {
   "cell_type": "code",
   "execution_count": null,
   "metadata": {},
   "outputs": [],
   "source": []
  },
  {
   "cell_type": "code",
   "execution_count": null,
   "metadata": {},
   "outputs": [],
   "source": []
  }
 ],
 "metadata": {
  "kernelspec": {
   "display_name": "Python 3",
   "language": "python",
   "name": "python3"
  },
  "language_info": {
   "codemirror_mode": {
    "name": "ipython",
    "version": 3
   },
   "file_extension": ".py",
   "mimetype": "text/x-python",
   "name": "python",
   "nbconvert_exporter": "python",
   "pygments_lexer": "ipython3",
   "version": "3.8.5"
  }
 },
 "nbformat": 4,
 "nbformat_minor": 4
}
