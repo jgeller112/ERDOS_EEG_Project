{
 "cells": [
  {
   "cell_type": "markdown",
   "metadata": {},
   "source": [
    "# Introduction\n",
    "\n",
    "This project is going to look for EEG biomarkers of alcoholism. The main goal of this project is try and predict whether a person is an alcholic or not based on features obtained from the EEG data we have. \n",
    "\n",
    "The EEG Database on UCI website contains 64-channel electroencephalography (EEG) data from 121 alcoholic and control subjects participating in a visual event-related potential (ERP) experiment.\n",
    "\n",
    "Subjects were exposed to three experimental conditions:\n",
    "\n",
    "(1)obj single visual stimulus\n",
    "(2)match two matching visual stimuli\n",
    "(3)nonmatch two non-matching visual stimuli.\n",
    "\n",
    "Each subject participated in multiple trials (replications) of each experimental condition. Data were recorded at 256 Hz for 1 second following the presentation of the visual stimulus/stimuli.\n",
    "\n",
    "\n",
    "The main goal of this project is try and predict whether a person is an alcholic based on various features obtained from the EEG data we have. \n",
    "\n"
   ]
  },
  {
   "cell_type": "markdown",
   "metadata": {},
   "source": [
    "## Read in Data\n",
    "\n",
    "The data has already been pre-processed. You can get all the raw files here: https://drive.google.com/drive/folders/1QEsxcAWYLakE35Dt2I4dcxgTatYMuG_D?usp=sharing. Below you will find the script to read in the 122 data files and combine them all together from the `eeg_folder` folder on your computer. \n"
   ]
  },
  {
   "cell_type": "code",
   "execution_count": 2,
   "metadata": {},
   "outputs": [],
   "source": [
    "import os             # File management\n",
    "import pandas as pd     # Data frame manipulation\n",
    "import numpy as np      # Data frame operations\n",
    "import glob\n",
    "import seaborn as sns # plotting\n",
    "import matplotlib.pyplot as plt # plotting\n",
    "import dask as dd # read in \n",
    "from dask import dataframe as dd\n",
    "import vaex\n"
   ]
  },
  {
   "cell_type": "code",
   "execution_count": 7,
   "metadata": {},
   "outputs": [
    {
     "data": {
      "text/plain": [
       "121"
      ]
     },
     "execution_count": 7,
     "metadata": {},
     "output_type": "execute_result"
    }
   ],
   "source": [
    "\n",
    "path= '/Users/jgeller1/Desktop/ERDOS_EEG_Project3/egg_data' # this will be different and needs to be changed on own computer\n",
    "\n",
    "all_files = glob.glob(os.path.join(path, \"*.csv\")) # join path and append .csv to end\n",
    "\n",
    "all_files\n",
    "\n",
    "len(all_files)"
   ]
  },
  {
   "cell_type": "markdown",
   "metadata": {},
   "source": [
    "# Concatenate \n",
    "\n",
    "Here we are going to concatenate all the csv files together. In order to speed up reading all these files in we are going to use the `vaex` package. It is incredibly efficent for reading in all the files. "
   ]
  },
  {
   "cell_type": "code",
   "execution_count": 8,
   "metadata": {},
   "outputs": [
    {
     "name": "stdout",
     "output_type": "stream",
     "text": [
      "CPU times: user 2min 15s, sys: 15.8 s, total: 2min 31s\n",
      "Wall time: 2min 32s\n"
     ]
    }
   ],
   "source": [
    "%%time\n",
    "df_concat = vaex.open_many(all_files)\n",
    "\n",
    "\n",
    "#concat_df=(pd.concat(pd.read_csv(f) for f in all_files))\n",
    "\n",
    "\n"
   ]
  },
  {
   "cell_type": "code",
   "execution_count": null,
   "metadata": {},
   "outputs": [],
   "source": [
    "With `vaex` it takes us 2min and 15s to process all the files. "
   ]
  },
  {
   "cell_type": "code",
   "execution_count": 9,
   "metadata": {},
   "outputs": [
    {
     "data": {
      "text/html": [
       "<table>\n",
       "<thead>\n",
       "<tr><th>#                            </th><th style=\"text-align: right;\">  Unnamed: 0</th><th style=\"text-align: right;\">  Unnamed: 0.1</th><th>subject      </th><th style=\"text-align: right;\">  trial</th><th>alcoholic  </th><th>match  </th><th>err  </th><th>sensor  </th><th style=\"text-align: right;\">  sample</th><th style=\"text-align: right;\">  value</th></tr>\n",
       "</thead>\n",
       "<tbody>\n",
       "<tr><td><i style='opacity: 0.6'>0</i></td><td style=\"text-align: right;\">           0</td><td style=\"text-align: right;\">             0</td><td>&#x27;co3c0000402&#x27;</td><td style=\"text-align: right;\">      2</td><td>False      </td><td>&#x27;obj&#x27;  </td><td>False</td><td>&#x27;FP1&#x27;   </td><td style=\"text-align: right;\">       0</td><td style=\"text-align: right;\">  0.732</td></tr>\n",
       "<tr><td><i style='opacity: 0.6'>1</i></td><td style=\"text-align: right;\">           1</td><td style=\"text-align: right;\">             1</td><td>&#x27;co3c0000402&#x27;</td><td style=\"text-align: right;\">      2</td><td>False      </td><td>&#x27;obj&#x27;  </td><td>False</td><td>&#x27;FP1&#x27;   </td><td style=\"text-align: right;\">       1</td><td style=\"text-align: right;\">  2.686</td></tr>\n",
       "<tr><td><i style='opacity: 0.6'>2</i></td><td style=\"text-align: right;\">           2</td><td style=\"text-align: right;\">             2</td><td>&#x27;co3c0000402&#x27;</td><td style=\"text-align: right;\">      2</td><td>False      </td><td>&#x27;obj&#x27;  </td><td>False</td><td>&#x27;FP1&#x27;   </td><td style=\"text-align: right;\">       2</td><td style=\"text-align: right;\">  5.127</td></tr>\n",
       "<tr><td><i style='opacity: 0.6'>3</i></td><td style=\"text-align: right;\">           3</td><td style=\"text-align: right;\">             3</td><td>&#x27;co3c0000402&#x27;</td><td style=\"text-align: right;\">      2</td><td>False      </td><td>&#x27;obj&#x27;  </td><td>False</td><td>&#x27;FP1&#x27;   </td><td style=\"text-align: right;\">       3</td><td style=\"text-align: right;\">  7.568</td></tr>\n",
       "<tr><td><i style='opacity: 0.6'>4</i></td><td style=\"text-align: right;\">           4</td><td style=\"text-align: right;\">             4</td><td>&#x27;co3c0000402&#x27;</td><td style=\"text-align: right;\">      2</td><td>False      </td><td>&#x27;obj&#x27;  </td><td>False</td><td>&#x27;FP1&#x27;   </td><td style=\"text-align: right;\">       4</td><td style=\"text-align: right;\">  9.033</td></tr>\n",
       "<tr><td><i style='opacity: 0.6'>5</i></td><td style=\"text-align: right;\">           5</td><td style=\"text-align: right;\">             5</td><td>&#x27;co3c0000402&#x27;</td><td style=\"text-align: right;\">      2</td><td>False      </td><td>&#x27;obj&#x27;  </td><td>False</td><td>&#x27;FP1&#x27;   </td><td style=\"text-align: right;\">       5</td><td style=\"text-align: right;\">  9.521</td></tr>\n",
       "<tr><td><i style='opacity: 0.6'>6</i></td><td style=\"text-align: right;\">           6</td><td style=\"text-align: right;\">             6</td><td>&#x27;co3c0000402&#x27;</td><td style=\"text-align: right;\">      2</td><td>False      </td><td>&#x27;obj&#x27;  </td><td>False</td><td>&#x27;FP1&#x27;   </td><td style=\"text-align: right;\">       6</td><td style=\"text-align: right;\">  9.521</td></tr>\n",
       "<tr><td><i style='opacity: 0.6'>7</i></td><td style=\"text-align: right;\">           7</td><td style=\"text-align: right;\">             7</td><td>&#x27;co3c0000402&#x27;</td><td style=\"text-align: right;\">      2</td><td>False      </td><td>&#x27;obj&#x27;  </td><td>False</td><td>&#x27;FP1&#x27;   </td><td style=\"text-align: right;\">       7</td><td style=\"text-align: right;\">  9.033</td></tr>\n",
       "<tr><td><i style='opacity: 0.6'>8</i></td><td style=\"text-align: right;\">           8</td><td style=\"text-align: right;\">             8</td><td>&#x27;co3c0000402&#x27;</td><td style=\"text-align: right;\">      2</td><td>False      </td><td>&#x27;obj&#x27;  </td><td>False</td><td>&#x27;FP1&#x27;   </td><td style=\"text-align: right;\">       8</td><td style=\"text-align: right;\">  9.033</td></tr>\n",
       "<tr><td><i style='opacity: 0.6'>9</i></td><td style=\"text-align: right;\">           9</td><td style=\"text-align: right;\">             9</td><td>&#x27;co3c0000402&#x27;</td><td style=\"text-align: right;\">      2</td><td>False      </td><td>&#x27;obj&#x27;  </td><td>False</td><td>&#x27;FP1&#x27;   </td><td style=\"text-align: right;\">       9</td><td style=\"text-align: right;\">  9.521</td></tr>\n",
       "</tbody>\n",
       "</table>"
      ],
      "text/plain": [
       "  #    Unnamed: 0    Unnamed: 0.1  subject          trial  alcoholic    match    err    sensor      sample    value\n",
       "  0             0               0  'co3c0000402'        2  False        'obj'    False  'FP1'            0    0.732\n",
       "  1             1               1  'co3c0000402'        2  False        'obj'    False  'FP1'            1    2.686\n",
       "  2             2               2  'co3c0000402'        2  False        'obj'    False  'FP1'            2    5.127\n",
       "  3             3               3  'co3c0000402'        2  False        'obj'    False  'FP1'            3    7.568\n",
       "  4             4               4  'co3c0000402'        2  False        'obj'    False  'FP1'            4    9.033\n",
       "  5             5               5  'co3c0000402'        2  False        'obj'    False  'FP1'            5    9.521\n",
       "  6             6               6  'co3c0000402'        2  False        'obj'    False  'FP1'            6    9.521\n",
       "  7             7               7  'co3c0000402'        2  False        'obj'    False  'FP1'            7    9.033\n",
       "  8             8               8  'co3c0000402'        2  False        'obj'    False  'FP1'            8    9.033\n",
       "  9             9               9  'co3c0000402'        2  False        'obj'    False  'FP1'            9    9.521"
      ]
     },
     "execution_count": 9,
     "metadata": {},
     "output_type": "execute_result"
    }
   ],
   "source": [
    "df_concat.head()"
   ]
  },
  {
   "cell_type": "markdown",
   "metadata": {},
   "source": [
    "The df_concat object has several columns: \n",
    "\n",
    "    - `subject`: Subject number\n",
    "    - `trail`: Trial number\n",
    "    - `alcholic`: True (alcholic) False not\n",
    "    - `match`: Condition (match, nonmatch, obj)\n",
    "    - `err`: \n",
    "    - `sensor`: senor locations (one of 64)\n",
    "    - `sample`: Time\n",
    "    - `value` : Voltage (uV)\n",
    "    "
   ]
  },
  {
   "cell_type": "markdown",
   "metadata": {},
   "source": [
    "Due to computational issues, we subset our data to only look at one electrode(Cz) and then we will aggregate across time and trials. \n"
   ]
  },
  {
   "cell_type": "code",
   "execution_count": 10,
   "metadata": {
    "scrolled": true
   },
   "outputs": [],
   "source": [
    "df_Cz = df_concat[df_concat.sensor.isin([\"CZ\"])] # select Cz channel "
   ]
  },
  {
   "cell_type": "code",
   "execution_count": 27,
   "metadata": {},
   "outputs": [],
   "source": [
    "df_Cz.export_csv('no_cz_trials.csv') # let's save this as a csv"
   ]
  },
  {
   "cell_type": "code",
   "execution_count": 29,
   "metadata": {},
   "outputs": [
    {
     "data": {
      "text/html": [
       "<div>\n",
       "<style scoped>\n",
       "    .dataframe tbody tr th:only-of-type {\n",
       "        vertical-align: middle;\n",
       "    }\n",
       "\n",
       "    .dataframe tbody tr th {\n",
       "        vertical-align: top;\n",
       "    }\n",
       "\n",
       "    .dataframe thead th {\n",
       "        text-align: right;\n",
       "    }\n",
       "</style>\n",
       "<table border=\"1\" class=\"dataframe\">\n",
       "  <thead>\n",
       "    <tr style=\"text-align: right;\">\n",
       "      <th></th>\n",
       "      <th>Unnamed: 0</th>\n",
       "      <th>Unnamed: 0.1</th>\n",
       "      <th>subject</th>\n",
       "      <th>trial</th>\n",
       "      <th>alcoholic</th>\n",
       "      <th>match</th>\n",
       "      <th>err</th>\n",
       "      <th>sensor</th>\n",
       "      <th>sample</th>\n",
       "      <th>value</th>\n",
       "    </tr>\n",
       "  </thead>\n",
       "  <tbody>\n",
       "    <tr>\n",
       "      <th>0</th>\n",
       "      <td>3840</td>\n",
       "      <td>3840.0</td>\n",
       "      <td>co3c0000402</td>\n",
       "      <td>2</td>\n",
       "      <td>False</td>\n",
       "      <td>obj</td>\n",
       "      <td>False</td>\n",
       "      <td>CZ</td>\n",
       "      <td>0</td>\n",
       "      <td>8.219</td>\n",
       "    </tr>\n",
       "    <tr>\n",
       "      <th>1</th>\n",
       "      <td>3841</td>\n",
       "      <td>3841.0</td>\n",
       "      <td>co3c0000402</td>\n",
       "      <td>2</td>\n",
       "      <td>False</td>\n",
       "      <td>obj</td>\n",
       "      <td>False</td>\n",
       "      <td>CZ</td>\n",
       "      <td>1</td>\n",
       "      <td>8.219</td>\n",
       "    </tr>\n",
       "    <tr>\n",
       "      <th>2</th>\n",
       "      <td>3842</td>\n",
       "      <td>3842.0</td>\n",
       "      <td>co3c0000402</td>\n",
       "      <td>2</td>\n",
       "      <td>False</td>\n",
       "      <td>obj</td>\n",
       "      <td>False</td>\n",
       "      <td>CZ</td>\n",
       "      <td>2</td>\n",
       "      <td>7.731</td>\n",
       "    </tr>\n",
       "    <tr>\n",
       "      <th>3</th>\n",
       "      <td>3843</td>\n",
       "      <td>3843.0</td>\n",
       "      <td>co3c0000402</td>\n",
       "      <td>2</td>\n",
       "      <td>False</td>\n",
       "      <td>obj</td>\n",
       "      <td>False</td>\n",
       "      <td>CZ</td>\n",
       "      <td>3</td>\n",
       "      <td>7.243</td>\n",
       "    </tr>\n",
       "    <tr>\n",
       "      <th>4</th>\n",
       "      <td>3844</td>\n",
       "      <td>3844.0</td>\n",
       "      <td>co3c0000402</td>\n",
       "      <td>2</td>\n",
       "      <td>False</td>\n",
       "      <td>obj</td>\n",
       "      <td>False</td>\n",
       "      <td>CZ</td>\n",
       "      <td>4</td>\n",
       "      <td>7.243</td>\n",
       "    </tr>\n",
       "    <tr>\n",
       "      <th>...</th>\n",
       "      <td>...</td>\n",
       "      <td>...</td>\n",
       "      <td>...</td>\n",
       "      <td>...</td>\n",
       "      <td>...</td>\n",
       "      <td>...</td>\n",
       "      <td>...</td>\n",
       "      <td>...</td>\n",
       "      <td>...</td>\n",
       "      <td>...</td>\n",
       "    </tr>\n",
       "    <tr>\n",
       "      <th>2804219</th>\n",
       "      <td>1576955</td>\n",
       "      <td>NaN</td>\n",
       "      <td>co2a0000403</td>\n",
       "      <td>119</td>\n",
       "      <td>True</td>\n",
       "      <td>match</td>\n",
       "      <td>False</td>\n",
       "      <td>CZ</td>\n",
       "      <td>251</td>\n",
       "      <td>-28.168</td>\n",
       "    </tr>\n",
       "    <tr>\n",
       "      <th>2804220</th>\n",
       "      <td>1576956</td>\n",
       "      <td>NaN</td>\n",
       "      <td>co2a0000403</td>\n",
       "      <td>119</td>\n",
       "      <td>True</td>\n",
       "      <td>match</td>\n",
       "      <td>False</td>\n",
       "      <td>CZ</td>\n",
       "      <td>252</td>\n",
       "      <td>-28.168</td>\n",
       "    </tr>\n",
       "    <tr>\n",
       "      <th>2804221</th>\n",
       "      <td>1576957</td>\n",
       "      <td>NaN</td>\n",
       "      <td>co2a0000403</td>\n",
       "      <td>119</td>\n",
       "      <td>True</td>\n",
       "      <td>match</td>\n",
       "      <td>False</td>\n",
       "      <td>CZ</td>\n",
       "      <td>253</td>\n",
       "      <td>-29.633</td>\n",
       "    </tr>\n",
       "    <tr>\n",
       "      <th>2804222</th>\n",
       "      <td>1576958</td>\n",
       "      <td>NaN</td>\n",
       "      <td>co2a0000403</td>\n",
       "      <td>119</td>\n",
       "      <td>True</td>\n",
       "      <td>match</td>\n",
       "      <td>False</td>\n",
       "      <td>CZ</td>\n",
       "      <td>254</td>\n",
       "      <td>-32.562</td>\n",
       "    </tr>\n",
       "    <tr>\n",
       "      <th>2804223</th>\n",
       "      <td>1576959</td>\n",
       "      <td>NaN</td>\n",
       "      <td>co2a0000403</td>\n",
       "      <td>119</td>\n",
       "      <td>True</td>\n",
       "      <td>match</td>\n",
       "      <td>False</td>\n",
       "      <td>CZ</td>\n",
       "      <td>255</td>\n",
       "      <td>-35.004</td>\n",
       "    </tr>\n",
       "  </tbody>\n",
       "</table>\n",
       "<p>2804224 rows × 10 columns</p>\n",
       "</div>"
      ],
      "text/plain": [
       "         Unnamed: 0  Unnamed: 0.1      subject  trial  alcoholic  match  \\\n",
       "0              3840        3840.0  co3c0000402      2      False    obj   \n",
       "1              3841        3841.0  co3c0000402      2      False    obj   \n",
       "2              3842        3842.0  co3c0000402      2      False    obj   \n",
       "3              3843        3843.0  co3c0000402      2      False    obj   \n",
       "4              3844        3844.0  co3c0000402      2      False    obj   \n",
       "...             ...           ...          ...    ...        ...    ...   \n",
       "2804219     1576955           NaN  co2a0000403    119       True  match   \n",
       "2804220     1576956           NaN  co2a0000403    119       True  match   \n",
       "2804221     1576957           NaN  co2a0000403    119       True  match   \n",
       "2804222     1576958           NaN  co2a0000403    119       True  match   \n",
       "2804223     1576959           NaN  co2a0000403    119       True  match   \n",
       "\n",
       "           err sensor  sample   value  \n",
       "0        False     CZ       0   8.219  \n",
       "1        False     CZ       1   8.219  \n",
       "2        False     CZ       2   7.731  \n",
       "3        False     CZ       3   7.243  \n",
       "4        False     CZ       4   7.243  \n",
       "...        ...    ...     ...     ...  \n",
       "2804219  False     CZ     251 -28.168  \n",
       "2804220  False     CZ     252 -28.168  \n",
       "2804221  False     CZ     253 -29.633  \n",
       "2804222  False     CZ     254 -32.562  \n",
       "2804223  False     CZ     255 -35.004  \n",
       "\n",
       "[2804224 rows x 10 columns]"
      ]
     },
     "execution_count": 29,
     "metadata": {},
     "output_type": "execute_result"
    }
   ],
   "source": [
    "cz_df=pd.read_csv('no_cz_trials.csv')\n",
    "\n",
    "cz_df"
   ]
  },
  {
   "cell_type": "markdown",
   "metadata": {},
   "source": [
    "Let's look at the amplitude differences between alcholics and controls across each of three conditions"
   ]
  },
  {
   "cell_type": "markdown",
   "metadata": {},
   "source": [
    "Let's change the sampling rate so it is in milliseconds and not some abritrary number. "
   ]
  },
  {
   "cell_type": "code",
   "execution_count": 102,
   "metadata": {},
   "outputs": [
    {
     "data": {
      "text/html": [
       "<div>\n",
       "<style scoped>\n",
       "    .dataframe tbody tr th:only-of-type {\n",
       "        vertical-align: middle;\n",
       "    }\n",
       "\n",
       "    .dataframe tbody tr th {\n",
       "        vertical-align: top;\n",
       "    }\n",
       "\n",
       "    .dataframe thead th {\n",
       "        text-align: right;\n",
       "    }\n",
       "</style>\n",
       "<table border=\"1\" class=\"dataframe\">\n",
       "  <thead>\n",
       "    <tr style=\"text-align: right;\">\n",
       "      <th></th>\n",
       "      <th>Unnamed: 0</th>\n",
       "      <th>Unnamed: 0.1</th>\n",
       "      <th>subject</th>\n",
       "      <th>trial</th>\n",
       "      <th>alcoholic</th>\n",
       "      <th>match</th>\n",
       "      <th>err</th>\n",
       "      <th>sensor</th>\n",
       "      <th>sample</th>\n",
       "      <th>value</th>\n",
       "      <th>Time</th>\n",
       "    </tr>\n",
       "  </thead>\n",
       "  <tbody>\n",
       "    <tr>\n",
       "      <th>0</th>\n",
       "      <td>3840</td>\n",
       "      <td>3840.0</td>\n",
       "      <td>co3c0000402</td>\n",
       "      <td>2</td>\n",
       "      <td>False</td>\n",
       "      <td>obj</td>\n",
       "      <td>False</td>\n",
       "      <td>CZ</td>\n",
       "      <td>0.0</td>\n",
       "      <td>8.219</td>\n",
       "      <td>0.000000</td>\n",
       "    </tr>\n",
       "    <tr>\n",
       "      <th>1</th>\n",
       "      <td>3841</td>\n",
       "      <td>3841.0</td>\n",
       "      <td>co3c0000402</td>\n",
       "      <td>2</td>\n",
       "      <td>False</td>\n",
       "      <td>obj</td>\n",
       "      <td>False</td>\n",
       "      <td>CZ</td>\n",
       "      <td>1.0</td>\n",
       "      <td>8.219</td>\n",
       "      <td>3.910000</td>\n",
       "    </tr>\n",
       "    <tr>\n",
       "      <th>2</th>\n",
       "      <td>3842</td>\n",
       "      <td>3842.0</td>\n",
       "      <td>co3c0000402</td>\n",
       "      <td>2</td>\n",
       "      <td>False</td>\n",
       "      <td>obj</td>\n",
       "      <td>False</td>\n",
       "      <td>CZ</td>\n",
       "      <td>2.0</td>\n",
       "      <td>7.731</td>\n",
       "      <td>7.820000</td>\n",
       "    </tr>\n",
       "    <tr>\n",
       "      <th>3</th>\n",
       "      <td>3843</td>\n",
       "      <td>3843.0</td>\n",
       "      <td>co3c0000402</td>\n",
       "      <td>2</td>\n",
       "      <td>False</td>\n",
       "      <td>obj</td>\n",
       "      <td>False</td>\n",
       "      <td>CZ</td>\n",
       "      <td>3.0</td>\n",
       "      <td>7.243</td>\n",
       "      <td>11.730000</td>\n",
       "    </tr>\n",
       "    <tr>\n",
       "      <th>4</th>\n",
       "      <td>3844</td>\n",
       "      <td>3844.0</td>\n",
       "      <td>co3c0000402</td>\n",
       "      <td>2</td>\n",
       "      <td>False</td>\n",
       "      <td>obj</td>\n",
       "      <td>False</td>\n",
       "      <td>CZ</td>\n",
       "      <td>4.0</td>\n",
       "      <td>7.243</td>\n",
       "      <td>15.640000</td>\n",
       "    </tr>\n",
       "    <tr>\n",
       "      <th>...</th>\n",
       "      <td>...</td>\n",
       "      <td>...</td>\n",
       "      <td>...</td>\n",
       "      <td>...</td>\n",
       "      <td>...</td>\n",
       "      <td>...</td>\n",
       "      <td>...</td>\n",
       "      <td>...</td>\n",
       "      <td>...</td>\n",
       "      <td>...</td>\n",
       "      <td>...</td>\n",
       "    </tr>\n",
       "    <tr>\n",
       "      <th>2804219</th>\n",
       "      <td>1576955</td>\n",
       "      <td>NaN</td>\n",
       "      <td>co2a0000403</td>\n",
       "      <td>119</td>\n",
       "      <td>True</td>\n",
       "      <td>match</td>\n",
       "      <td>False</td>\n",
       "      <td>CZ</td>\n",
       "      <td>251.0</td>\n",
       "      <td>-28.168</td>\n",
       "      <td>981.410034</td>\n",
       "    </tr>\n",
       "    <tr>\n",
       "      <th>2804220</th>\n",
       "      <td>1576956</td>\n",
       "      <td>NaN</td>\n",
       "      <td>co2a0000403</td>\n",
       "      <td>119</td>\n",
       "      <td>True</td>\n",
       "      <td>match</td>\n",
       "      <td>False</td>\n",
       "      <td>CZ</td>\n",
       "      <td>252.0</td>\n",
       "      <td>-28.168</td>\n",
       "      <td>985.320007</td>\n",
       "    </tr>\n",
       "    <tr>\n",
       "      <th>2804221</th>\n",
       "      <td>1576957</td>\n",
       "      <td>NaN</td>\n",
       "      <td>co2a0000403</td>\n",
       "      <td>119</td>\n",
       "      <td>True</td>\n",
       "      <td>match</td>\n",
       "      <td>False</td>\n",
       "      <td>CZ</td>\n",
       "      <td>253.0</td>\n",
       "      <td>-29.633</td>\n",
       "      <td>989.230042</td>\n",
       "    </tr>\n",
       "    <tr>\n",
       "      <th>2804222</th>\n",
       "      <td>1576958</td>\n",
       "      <td>NaN</td>\n",
       "      <td>co2a0000403</td>\n",
       "      <td>119</td>\n",
       "      <td>True</td>\n",
       "      <td>match</td>\n",
       "      <td>False</td>\n",
       "      <td>CZ</td>\n",
       "      <td>254.0</td>\n",
       "      <td>-32.562</td>\n",
       "      <td>993.140015</td>\n",
       "    </tr>\n",
       "    <tr>\n",
       "      <th>2804223</th>\n",
       "      <td>1576959</td>\n",
       "      <td>NaN</td>\n",
       "      <td>co2a0000403</td>\n",
       "      <td>119</td>\n",
       "      <td>True</td>\n",
       "      <td>match</td>\n",
       "      <td>False</td>\n",
       "      <td>CZ</td>\n",
       "      <td>255.0</td>\n",
       "      <td>-35.004</td>\n",
       "      <td>997.050049</td>\n",
       "    </tr>\n",
       "  </tbody>\n",
       "</table>\n",
       "<p>2804224 rows × 11 columns</p>\n",
       "</div>"
      ],
      "text/plain": [
       "         Unnamed: 0  Unnamed: 0.1      subject  trial  alcoholic  match  \\\n",
       "0              3840        3840.0  co3c0000402      2      False    obj   \n",
       "1              3841        3841.0  co3c0000402      2      False    obj   \n",
       "2              3842        3842.0  co3c0000402      2      False    obj   \n",
       "3              3843        3843.0  co3c0000402      2      False    obj   \n",
       "4              3844        3844.0  co3c0000402      2      False    obj   \n",
       "...             ...           ...          ...    ...        ...    ...   \n",
       "2804219     1576955           NaN  co2a0000403    119       True  match   \n",
       "2804220     1576956           NaN  co2a0000403    119       True  match   \n",
       "2804221     1576957           NaN  co2a0000403    119       True  match   \n",
       "2804222     1576958           NaN  co2a0000403    119       True  match   \n",
       "2804223     1576959           NaN  co2a0000403    119       True  match   \n",
       "\n",
       "           err sensor  sample   value        Time  \n",
       "0        False     CZ     0.0   8.219    0.000000  \n",
       "1        False     CZ     1.0   8.219    3.910000  \n",
       "2        False     CZ     2.0   7.731    7.820000  \n",
       "3        False     CZ     3.0   7.243   11.730000  \n",
       "4        False     CZ     4.0   7.243   15.640000  \n",
       "...        ...    ...     ...     ...         ...  \n",
       "2804219  False     CZ   251.0 -28.168  981.410034  \n",
       "2804220  False     CZ   252.0 -28.168  985.320007  \n",
       "2804221  False     CZ   253.0 -29.633  989.230042  \n",
       "2804222  False     CZ   254.0 -32.562  993.140015  \n",
       "2804223  False     CZ   255.0 -35.004  997.050049  \n",
       "\n",
       "[2804224 rows x 11 columns]"
      ]
     },
     "execution_count": 102,
     "metadata": {},
     "output_type": "execute_result"
    }
   ],
   "source": [
    "cz_df[\"sample\"] = pd.to_numeric(cz_df[\"sample\"], downcast=\"float\")\n",
    "\n",
    "cz_df['Time'] = cz_df[['sample']]*3.91 # change to ms\n",
    "\n",
    "cz_df['subject'] = cz_df['subject'].astype(str)\n",
    "\n",
    "cz_df['match'] = cz_df['match'].astype(str)\n",
    "\n",
    "\n",
    "cz_df"
   ]
  },
  {
   "cell_type": "code",
   "execution_count": 110,
   "metadata": {},
   "outputs": [
    {
     "data": {
      "image/png": "[encoded data removed]",
      "text/plain": [
       "<Figure size 799.875x360 with 2 Axes>"
      ]
     },
     "metadata": {
      "needs_background": "light"
     },
     "output_type": "display_data"
    }
   ],
   "source": [
    "\n",
    "ax=sns.relplot(x=\"Time\", y=\"value\", kind=\"line\", hue=\"match\", col=\"alcoholic\", data=cz_df)\n",
    "\n",
    "\n",
    "plt.show()\n"
   ]
  },
  {
   "cell_type": "code",
   "execution_count": null,
   "metadata": {},
   "outputs": [],
   "source": [
    "Let's look at the amplitude differences between alcholics and controls aggregated across condition and retun some "
   ]
  },
  {
   "cell_type": "code",
   "execution_count": 85,
   "metadata": {},
   "outputs": [
    {
     "data": {
      "image/png": "[encoded data removed]",
      "text/plain": [
       "<Figure size 440.125x360 with 1 Axes>"
      ]
     },
     "metadata": {
      "needs_background": "light"
     },
     "output_type": "display_data"
    }
   ],
   "source": [
    "ax=sns.relplot(x=\"Time\", y=\"value\", kind=\"line\", hue=\"alcoholic\", data=cz_df)\n",
    "\n",
    "\n",
    "plt.show()"
   ]
  },
  {
   "cell_type": "markdown",
   "metadata": {},
   "source": [
    "Now that our data is a bit smaller let's use pandas to work with the data. "
   ]
  },
  {
   "cell_type": "markdown",
   "metadata": {},
   "source": [
    "# Features\n",
    "\n",
    "There are a number of features one could look at with this type of data. Here I am going to extract a few features I think our important.\n",
    "\n",
    "\n"
   ]
  },
  {
   "cell_type": "markdown",
   "metadata": {},
   "source": [
    "## Mean amplitude for each condition by subject\n",
    "\n",
    "To do this we will group by subject, match, sample, and alcholic category. We will create a wide DF to add to a bigger feature csv file. "
   ]
  },
  {
   "cell_type": "code",
   "execution_count": 117,
   "metadata": {},
   "outputs": [
    {
     "data": {
      "text/plain": [
       "subject      match    alcoholic\n",
       "co2a0000364  match    True        -15.778111\n",
       "             nomatch  True        -14.104428\n",
       "             obj      True          5.108323\n",
       "co2a0000365  match    True         -8.428477\n",
       "             nomatch  True         -8.517720\n",
       "Name: value, dtype: float64"
      ]
     },
     "execution_count": 117,
     "metadata": {},
     "output_type": "execute_result"
    }
   ],
   "source": [
    "\n",
    "df1_agg = cz_df.groupby(['subject', 'match', 'alcoholic'])['value'].mean()\n",
    "\n",
    "\n",
    "df1_agg.head()"
   ]
  },
  {
   "cell_type": "code",
   "execution_count": 118,
   "metadata": {},
   "outputs": [],
   "source": [
    "df1_agg.to_csv('no_trials.csv') # let's save this as a csv"
   ]
  },
  {
   "cell_type": "code",
   "execution_count": 119,
   "metadata": {
    "scrolled": true
   },
   "outputs": [
    {
     "data": {
      "text/html": [
       "<div>\n",
       "<style scoped>\n",
       "    .dataframe tbody tr th:only-of-type {\n",
       "        vertical-align: middle;\n",
       "    }\n",
       "\n",
       "    .dataframe tbody tr th {\n",
       "        vertical-align: top;\n",
       "    }\n",
       "\n",
       "    .dataframe thead th {\n",
       "        text-align: right;\n",
       "    }\n",
       "</style>\n",
       "<table border=\"1\" class=\"dataframe\">\n",
       "  <thead>\n",
       "    <tr style=\"text-align: right;\">\n",
       "      <th></th>\n",
       "      <th>subject</th>\n",
       "      <th>match</th>\n",
       "      <th>alcoholic</th>\n",
       "      <th>value</th>\n",
       "    </tr>\n",
       "  </thead>\n",
       "  <tbody>\n",
       "    <tr>\n",
       "      <th>0</th>\n",
       "      <td>co2a0000364</td>\n",
       "      <td>match</td>\n",
       "      <td>True</td>\n",
       "      <td>-15.778111</td>\n",
       "    </tr>\n",
       "    <tr>\n",
       "      <th>1</th>\n",
       "      <td>co2a0000364</td>\n",
       "      <td>nomatch</td>\n",
       "      <td>True</td>\n",
       "      <td>-14.104428</td>\n",
       "    </tr>\n",
       "    <tr>\n",
       "      <th>2</th>\n",
       "      <td>co2a0000364</td>\n",
       "      <td>obj</td>\n",
       "      <td>True</td>\n",
       "      <td>5.108323</td>\n",
       "    </tr>\n",
       "    <tr>\n",
       "      <th>3</th>\n",
       "      <td>co2a0000365</td>\n",
       "      <td>match</td>\n",
       "      <td>True</td>\n",
       "      <td>-8.428477</td>\n",
       "    </tr>\n",
       "    <tr>\n",
       "      <th>4</th>\n",
       "      <td>co2a0000365</td>\n",
       "      <td>nomatch</td>\n",
       "      <td>True</td>\n",
       "      <td>-8.517720</td>\n",
       "    </tr>\n",
       "    <tr>\n",
       "      <th>...</th>\n",
       "      <td>...</td>\n",
       "      <td>...</td>\n",
       "      <td>...</td>\n",
       "      <td>...</td>\n",
       "    </tr>\n",
       "    <tr>\n",
       "      <th>358</th>\n",
       "      <td>co3a0000461</td>\n",
       "      <td>nomatch</td>\n",
       "      <td>True</td>\n",
       "      <td>-3.504227</td>\n",
       "    </tr>\n",
       "    <tr>\n",
       "      <th>359</th>\n",
       "      <td>co3a0000461</td>\n",
       "      <td>obj</td>\n",
       "      <td>True</td>\n",
       "      <td>-0.739263</td>\n",
       "    </tr>\n",
       "    <tr>\n",
       "      <th>360</th>\n",
       "      <td>co3c0000402</td>\n",
       "      <td>match</td>\n",
       "      <td>False</td>\n",
       "      <td>-13.558304</td>\n",
       "    </tr>\n",
       "    <tr>\n",
       "      <th>361</th>\n",
       "      <td>co3c0000402</td>\n",
       "      <td>nomatch</td>\n",
       "      <td>False</td>\n",
       "      <td>-12.589800</td>\n",
       "    </tr>\n",
       "    <tr>\n",
       "      <th>362</th>\n",
       "      <td>co3c0000402</td>\n",
       "      <td>obj</td>\n",
       "      <td>False</td>\n",
       "      <td>0.777843</td>\n",
       "    </tr>\n",
       "  </tbody>\n",
       "</table>\n",
       "<p>363 rows × 4 columns</p>\n",
       "</div>"
      ],
      "text/plain": [
       "         subject    match  alcoholic      value\n",
       "0    co2a0000364    match       True -15.778111\n",
       "1    co2a0000364  nomatch       True -14.104428\n",
       "2    co2a0000364      obj       True   5.108323\n",
       "3    co2a0000365    match       True  -8.428477\n",
       "4    co2a0000365  nomatch       True  -8.517720\n",
       "..           ...      ...        ...        ...\n",
       "358  co3a0000461  nomatch       True  -3.504227\n",
       "359  co3a0000461      obj       True  -0.739263\n",
       "360  co3c0000402    match      False -13.558304\n",
       "361  co3c0000402  nomatch      False -12.589800\n",
       "362  co3c0000402      obj      False   0.777843\n",
       "\n",
       "[363 rows x 4 columns]"
      ]
     },
     "execution_count": 119,
     "metadata": {},
     "output_type": "execute_result"
    }
   ],
   "source": [
    "no_trials=pd.read_csv('no_trials.csv')\n",
    "\n",
    "no_trials"
   ]
  },
  {
   "cell_type": "markdown",
   "metadata": {},
   "source": [
    "## P300\n",
    "\n",
    "\n",
    "A classic neurophysiological marker is the P300 which is a positive amplitude beween 250 ms and 550 ms. Lets get the mean amplitude between those times to use as features"
   ]
  },
  {
   "cell_type": "code",
   "execution_count": 124,
   "metadata": {},
   "outputs": [],
   "source": [
    "\n",
    "df_p300= cz_df[(cz_df['Time'] >= 250) & (cz_df['Time'] <=550)]\n",
    "\n",
    "\n",
    "df_p300_df=df_p300.groupby([\"subject\", \"alcoholic\", \"match\"]).value.mean()\n",
    "\n",
    "# write file to csv\n",
    "df_p300_df\n",
    "\n",
    "df_p300_df.to_csv(\"df_p300\", sep='\\t', encoding='utf-8')\n",
    "\n",
    "#groupby('subject').value.mean()"
   ]
  },
  {
   "cell_type": "markdown",
   "metadata": {},
   "source": [
    "# Overall mean for the match, nomatch, and Obj trials"
   ]
  },
  {
   "cell_type": "code",
   "execution_count": 126,
   "metadata": {},
   "outputs": [],
   "source": [
    "df_p300_df=df_p300.groupby([\"subject\", \"alcoholic\", \"match\"]).value.mean()"
   ]
  },
  {
   "cell_type": "code",
   "execution_count": 128,
   "metadata": {},
   "outputs": [
    {
     "data": {
      "text/plain": [
       "subject      alcoholic  match  \n",
       "co2a0000364  True       match     -14.191272\n",
       "                        nomatch    -9.451732\n",
       "                        obj         9.249465\n",
       "co2a0000365  True       match     -10.046991\n",
       "                        nomatch    -6.466113\n",
       "                                     ...    \n",
       "co3a0000461  True       nomatch    -2.253674\n",
       "                        obj         3.265270\n",
       "co3c0000402  False      match     -14.373963\n",
       "                        nomatch   -12.694069\n",
       "                        obj         2.948908\n",
       "Name: value, Length: 363, dtype: float64"
      ]
     },
     "execution_count": 128,
     "metadata": {},
     "output_type": "execute_result"
    }
   ],
   "source": [
    "df_p300_df"
   ]
  },
  {
   "cell_type": "code",
   "execution_count": null,
   "metadata": {},
   "outputs": [],
   "source": []
  }
 ],
 "metadata": {
  "kernelspec": {
   "display_name": "Python 3",
   "language": "python",
   "name": "python3"
  },
  "language_info": {
   "codemirror_mode": {
    "name": "ipython",
    "version": 3
   },
   "file_extension": ".py",
   "mimetype": "text/x-python",
   "name": "python",
   "nbconvert_exporter": "python",
   "pygments_lexer": "ipython3",
   "version": "3.8.3"
  }
 },
 "nbformat": 4,
 "nbformat_minor": 5
}
